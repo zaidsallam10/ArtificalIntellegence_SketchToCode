{
  "nbformat": 4,
  "nbformat_minor": 0,
  "metadata": {
    "colab": {
      "name": "farah1.ipynb",
      "provenance": [],
      "collapsed_sections": [],
      "include_colab_link": true
    },
    "kernelspec": {
      "name": "python3",
      "display_name": "Python 3"
    }
  },
  "cells": [
    {
      "cell_type": "markdown",
      "metadata": {
        "id": "view-in-github",
        "colab_type": "text"
      },
      "source": [
        "<a href=\"https://colab.research.google.com/github/zaidsallam10/ArtificalIntellegence_SketchToCode/blob/master/farah1.ipynb\" target=\"_parent\"><img src=\"https://colab.research.google.com/assets/colab-badge.svg\" alt=\"Open In Colab\"/></a>"
      ]
    },
    {
      "cell_type": "code",
      "metadata": {
        "id": "-uTuj-ADEgbw",
        "colab_type": "code",
        "colab": {
          "base_uri": "https://localhost:8080/",
          "height": 34
        },
        "outputId": "12ba9cd0-b46a-4084-8c8e-177f67edd282"
      },
      "source": [
        "print(\"hello\")"
      ],
      "execution_count": null,
      "outputs": [
        {
          "output_type": "stream",
          "text": [
            "hello\n"
          ],
          "name": "stdout"
        }
      ]
    },
    {
      "cell_type": "code",
      "metadata": {
        "id": "A5kpF0EFJFJp",
        "colab_type": "code",
        "colab": {
          "base_uri": "https://localhost:8080/",
          "height": 286
        },
        "outputId": "e4f892f7-8f51-4c8d-d05d-1ff695d74553"
      },
      "source": [
        "import numpy as np\n",
        "import matplotlib.pyplot as plt\n",
        "\n",
        "x = [1,2,3,4,5,6]\n",
        "y = np.sin(x)\n",
        "plt.plot(x,y)"
      ],
      "execution_count": null,
      "outputs": [
        {
          "output_type": "execute_result",
          "data": {
            "text/plain": [
              "[<matplotlib.lines.Line2D at 0x7f6395413860>]"
            ]
          },
          "metadata": {
            "tags": []
          },
          "execution_count": 3
        },
        {
          "output_type": "display_data",
          "data": {
            "image/png": "[encoded data removed]",
            "text/plain": [
              "<Figure size 432x288 with 1 Axes>"
            ]
          },
          "metadata": {
            "tags": [],
            "needs_background": "light"
          }
        }
      ]
    },
    {
      "cell_type": "code",
      "metadata": {
        "id": "5hpsWkmQPYZK",
        "colab_type": "code",
        "colab": {
          "base_uri": "https://localhost:8080/",
          "height": 68
        },
        "outputId": "b08884fc-491b-4bfb-fc87-032ce16417eb"
      },
      "source": [
        "a = int(input('inter num of a:'))\n",
        "b = int(input('inter num of b:'))\n",
        "print (a+b)\n"
      ],
      "execution_count": null,
      "outputs": [
        {
          "output_type": "stream",
          "text": [
            "inter num of a:5\n",
            "inter num of b:5\n",
            "10\n"
          ],
          "name": "stdout"
        }
      ]
    },
    {
      "cell_type": "code",
      "metadata": {
        "id": "5rk7TPm0wA6K",
        "colab_type": "code",
        "colab": {
          "base_uri": "https://localhost:8080/",
          "height": 68
        },
        "outputId": "87cfed09-da34-4ef0-8d31-977e51e43c9d"
      },
      "source": [
        "c = hex(56)\n",
        "print(\"conv. to hexa\" +c , end=\"\\n\")\n",
        "c = oct(56)\n",
        "print(\"conv. to oct\" +c , end=\"\\n\")\n",
        "\n",
        "c = 'FNDMDL'\n",
        "s= set(c)\n",
        "print(\"conv. to Tuple\" +c, end=\"\\n\")"
      ],
      "execution_count": null,
      "outputs": [
        {
          "output_type": "stream",
          "text": [
            "conv. to hexa0x38\n",
            "conv. to oct0o70\n",
            "conv. to TupleFNDMDL\n"
          ],
          "name": "stdout"
        }
      ]
    },
    {
      "cell_type": "code",
      "metadata": {
        "id": "F2D3s0BcuNX3",
        "colab_type": "code",
        "colab": {
          "base_uri": "https://localhost:8080/",
          "height": 272
        },
        "outputId": "6bdfc9b1-bcf3-4d42-a964-44e03fd725bc"
      },
      "source": [
        "import numpy as np\n",
        "a = np.array([11,22,33,44,55])\n",
        "print(\"array = : \" ,a)\n",
        "print (type(a))\n",
        "\n",
        "b = np.array([[11,22,33,44,55] , [1,2,3,4,5]])\n",
        "print (b)\n",
        "print(type(b))\n",
        "\n",
        "c = np.array([7,4,5,3], complex)\n",
        "print (c)\n",
        "print(type(c))\n",
        "print (c.ndim)\n",
        "print (c.itemsize)\n",
        "\n",
        "print (b.ndim)\n",
        "\n",
        "print (a.dtype)\n",
        "print (a.size)\n",
        "print (b.dtype)\n",
        "print (b.size)\n",
        "print (a.shape)\n"
      ],
      "execution_count": null,
      "outputs": [
        {
          "output_type": "stream",
          "text": [
            "array = :  [11 22 33 44 55]\n",
            "<class 'numpy.ndarray'>\n",
            "[[11 22 33 44 55]\n",
            " [ 1  2  3  4  5]]\n",
            "<class 'numpy.ndarray'>\n",
            "[7.+0.j 4.+0.j 5.+0.j 3.+0.j]\n",
            "<class 'numpy.ndarray'>\n",
            "1\n",
            "16\n",
            "2\n",
            "int64\n",
            "5\n",
            "int64\n",
            "10\n",
            "(5,)\n"
          ],
          "name": "stdout"
        }
      ]
    },
    {
      "cell_type": "markdown",
      "metadata": {
        "id": "OvlRrwR_XEFg",
        "colab_type": "text"
      },
      "source": [
        "# New Section"
      ]
    },
    {
      "cell_type": "code",
      "metadata": {
        "id": "vT4qmOrLWvgF",
        "colab_type": "code",
        "colab": {
          "base_uri": "https://localhost:8080/",
          "height": 578
        },
        "outputId": "8adeed46-07fe-4340-9155-58c6f6211ee1"
      },
      "source": [
        "##reshaping##\n",
        "\n",
        "myarray = np.array([[1,2,3,4],[5,6,7,8],[9,10,11,12]])\n",
        "print(myarray)\n",
        "print(myarray.shape)\n",
        "myarray2 = myarray.reshape(4,3)\n",
        "print(myarray2)\n",
        "print(myarray2[0,1])\n",
        "print(myarray2[2,1])\n",
        "print(myarray2[0,0])\n",
        "print(myarray2[0,2])\n",
        "\n",
        "myarray3 =np.array([[1,2,3,4],[7,8,9,4],[5,6,4,2]])\n",
        "myarray4 =np.array([[5,6,7,8],[1,2,3,4],[9,10,11,12]])\n",
        "print(myarray3 * myarray4)\n",
        "print(myarray3 + myarray4)\n",
        "print(myarray3 - myarray4)\n",
        "print(myarray3 / myarray4)\n",
        "##H\n",
        "print(np.hstack((myarray3 , myarray4)))\n",
        "##V\n",
        "print(np.vstack((myarray3 , myarray4)))\n"
      ],
      "execution_count": null,
      "outputs": [
        {
          "output_type": "stream",
          "text": [
            "[[ 1  2  3  4]\n",
            " [ 5  6  7  8]\n",
            " [ 9 10 11 12]]\n",
            "(3, 4)\n",
            "[[ 1  2  3]\n",
            " [ 4  5  6]\n",
            " [ 7  8  9]\n",
            " [10 11 12]]\n",
            "2\n",
            "8\n",
            "1\n",
            "3\n",
            "[[ 5 12 21 32]\n",
            " [ 7 16 27 16]\n",
            " [45 60 44 24]]\n",
            "[[ 6  8 10 12]\n",
            " [ 8 10 12  8]\n",
            " [14 16 15 14]]\n",
            "[[ -4  -4  -4  -4]\n",
            " [  6   6   6   0]\n",
            " [ -4  -4  -7 -10]]\n",
            "[[0.2        0.33333333 0.42857143 0.5       ]\n",
            " [7.         4.         3.         1.        ]\n",
            " [0.55555556 0.6        0.36363636 0.16666667]]\n",
            "[[ 1  2  3  4  5  6  7  8]\n",
            " [ 7  8  9  4  1  2  3  4]\n",
            " [ 5  6  4  2  9 10 11 12]]\n",
            "[[ 1  2  3  4]\n",
            " [ 7  8  9  4]\n",
            " [ 5  6  4  2]\n",
            " [ 5  6  7  8]\n",
            " [ 1  2  3  4]\n",
            " [ 9 10 11 12]]\n"
          ],
          "name": "stdout"
        }
      ]
    },
    {
      "cell_type": "code",
      "metadata": {
        "id": "mzz96r2zbuhX",
        "colab_type": "code",
        "colab": {
          "base_uri": "https://localhost:8080/",
          "height": 221
        },
        "outputId": "9789b296-f2eb-44c9-8ea5-b16433e2cab0"
      },
      "source": [
        "##creat array##\n",
        "import numpy as np\n",
        "##zeros\n",
        "aarray = np.zeros((3,2), dtype= float)\n",
        "print(aarray)\n",
        "myarray = np.zeros((3,2), dtype= int)\n",
        "print(myarray)\n",
        "##ones\n",
        "myarray1= np.ones((4,3), dtype= int)\n",
        "print(myarray1)\n",
        "##empty\n",
        "myarray2= np.empty((2,5), dtype= int)\n",
        "print(myarray2)\n"
      ],
      "execution_count": null,
      "outputs": [
        {
          "output_type": "stream",
          "text": [
            "[[0. 0.]\n",
            " [0. 0.]\n",
            " [0. 0.]]\n",
            "[[0 0]\n",
            " [0 0]\n",
            " [0 0]]\n",
            "[[1 1 1]\n",
            " [1 1 1]\n",
            " [1 1 1]\n",
            " [1 1 1]]\n",
            "[[78934480 68999720 78934560        0 65058688]\n",
            " [      32 63217153 51722368        1        0]]\n"
          ],
          "name": "stdout"
        }
      ]
    },
    {
      "cell_type": "code",
      "metadata": {
        "id": "SpsAawyj-M_6",
        "colab_type": "code",
        "colab": {
          "base_uri": "https://localhost:8080/",
          "height": 238
        },
        "outputId": "dcc596cd-778a-4081-b8b1-9d2b0cb0427a"
      },
      "source": [
        "##Lists\n",
        "import numpy as np\n",
        "mylist = [1,2,3,4,5,6,7,8,9]\n",
        "print(mylist)\n",
        "print(type(mylist))\n",
        "myarray =np.asarray (mylist)\n",
        "print(myarray)\n",
        "print(type(myarray))\n",
        "##Tuple\n",
        "mytuple =(1,2,3,4,5,6,7,8,9)\n",
        "print(mytuple)\n",
        "print(type(mytuple))\n",
        "myarray2 =np.asarray(mytuple)\n",
        "print(myarray2)\n",
        "print(type(myarray2))\n",
        "##Buffer with String\n",
        "mystring =b\"farah moh altah\"\n",
        "print(mystring)\n",
        "print(type(mystring))\n",
        "myarray3 =np.frombuffer(mystring , dtype= \"S1\")\n",
        "print(myarray3)\n",
        "print(type(myarray3))\n",
        "\n"
      ],
      "execution_count": null,
      "outputs": [
        {
          "output_type": "stream",
          "text": [
            "[1, 2, 3, 4, 5, 6, 7, 8, 9]\n",
            "<class 'list'>\n",
            "[1 2 3 4 5 6 7 8 9]\n",
            "<class 'numpy.ndarray'>\n",
            "(1, 2, 3, 4, 5, 6, 7, 8, 9)\n",
            "<class 'tuple'>\n",
            "[1 2 3 4 5 6 7 8 9]\n",
            "<class 'numpy.ndarray'>\n",
            "b'farah moh altah'\n",
            "<class 'bytes'>\n",
            "[b'f' b'a' b'r' b'a' b'h' b' ' b'm' b'o' b'h' b' ' b'a' b'l' b't' b'a'\n",
            " b'h']\n",
            "<class 'numpy.ndarray'>\n"
          ],
          "name": "stdout"
        }
      ]
    },
    {
      "cell_type": "code",
      "metadata": {
        "id": "WaXWZ04ksoYn",
        "colab_type": "code",
        "colab": {
          "base_uri": "https://localhost:8080/",
          "height": 119
        },
        "outputId": "d10364ef-3195-4973-f559-310affc8bb4e"
      },
      "source": [
        "import numpy as np \n",
        "myarray = np.arange(2 , 20 , 1 ,int)\n",
        "print (myarray)\n",
        "print (type(myarray))\n",
        "\n",
        "myarray2 = np.arange(21 , 100 , 2 , float)\n",
        "print (myarray2)\n",
        "print (type(myarray2))"
      ],
      "execution_count": null,
      "outputs": [
        {
          "output_type": "stream",
          "text": [
            "[ 2  3  4  5  6  7  8  9 10 11 12 13 14 15 16 17 18 19]\n",
            "<class 'numpy.ndarray'>\n",
            "[21. 23. 25. 27. 29. 31. 33. 35. 37. 39. 41. 43. 45. 47. 49. 51. 53. 55.\n",
            " 57. 59. 61. 63. 65. 67. 69. 71. 73. 75. 77. 79. 81. 83. 85. 87. 89. 91.\n",
            " 93. 95. 97. 99.]\n",
            "<class 'numpy.ndarray'>\n"
          ],
          "name": "stdout"
        }
      ]
    },
    {
      "cell_type": "code",
      "metadata": {
        "id": "J6az1hj5yGbO",
        "colab_type": "code",
        "colab": {
          "base_uri": "https://localhost:8080/",
          "height": 153
        },
        "outputId": "86c7ccbd-04c6-4678-a729-48981cb827b2"
      },
      "source": [
        "import numpy as np \n",
        "myarray = np.array([[11,22,33,44,55],[66,77,88,99,100]])\n",
        "myarray3 = np.array([[11,22,33,44,55],[66,77,88,99,100]])\n",
        "myarray4 = np.array([11,22,33,44,55])\n",
        "a= myarray3 + myarray4\n",
        "b= myarray3 * myarray4\n",
        "c= myarray3 - myarray4\n",
        "d= myarray3 / myarray4\n",
        "print(a)\n",
        "print(b)\n",
        "print(c)\n",
        "print(d)\n"
      ],
      "execution_count": null,
      "outputs": [
        {
          "output_type": "stream",
          "text": [
            "[[ 22  44  66  88 110]\n",
            " [ 77  99 121 143 155]]\n",
            "[[ 121  484 1089 1936 3025]\n",
            " [ 726 1694 2904 4356 5500]]\n",
            "[[ 0  0  0  0  0]\n",
            " [55 55 55 55 45]]\n",
            "[[1.         1.         1.         1.         1.        ]\n",
            " [6.         3.5        2.66666667 2.25       1.81818182]]\n"
          ],
          "name": "stdout"
        }
      ]
    },
    {
      "cell_type": "code",
      "metadata": {
        "id": "lQcER3s7poqL",
        "colab_type": "code",
        "colab": {
          "base_uri": "https://localhost:8080/",
          "height": 187
        },
        "outputId": "b1dbe0f4-6c8c-4763-c3e3-63f3d33db91c"
      },
      "source": [
        "import numpy as np \n",
        "a =np.char.add([\"farah\",\"moh\"],[\"al\",\"taha\"])\n",
        "print(a)\n",
        "b =np.char.multiply(\"farah\" , 5)\n",
        "print(b)\n",
        "c =np.char.capitalize(\"farah moh altaha\")\n",
        "print(c)\n",
        "d =np.char.title(\"farah moh altaha\")\n",
        "print(d)\n",
        "e =np.char.lower(\"FARAH MOH ALTAHA\")\n",
        "print(e)\n",
        "f =np.char.upper(\"farah moh altaha\")\n",
        "print(f)\n",
        "g =np.char.split(\"farah moh altaha\", sep=\" \")\n",
        "print(g)\n",
        "h =np.char.join(\"-\" , \"farah moh\")\n",
        "print(h)\n",
        "\n",
        "mystr =\"farah moh\"\n",
        "print(mystr)\n",
        "i =np.char.replace(mystr, \"farah\",\"moh\")\n",
        "print(i)"
      ],
      "execution_count": null,
      "outputs": [
        {
          "output_type": "stream",
          "text": [
            "['farahal' 'mohtaha']\n",
            "farahfarahfarahfarahfarah\n",
            "Farah moh altaha\n",
            "Farah Moh Altaha\n",
            "farah moh altaha\n",
            "FARAH MOH ALTAHA\n",
            "['farah', 'moh', 'altaha']\n",
            "f-a-r-a-h- -m-o-h\n",
            "farah moh\n",
            "moh moh\n"
          ],
          "name": "stdout"
        }
      ]
    },
    {
      "cell_type": "code",
      "metadata": {
        "id": "8Pde7e7I0TcN",
        "colab_type": "code",
        "colab": {
          "base_uri": "https://localhost:8080/",
          "height": 935
        },
        "outputId": "3234c0b5-6d57-4ea1-e153-7dd0a7b8e738"
      },
      "source": [
        "import numpy as np \n",
        "emp_info =[('n','S10'),('s','f8'),('a','i8')]\n",
        "print(emp_info)\n",
        "emp_staff = np.zeros((3), dtype =emp_info)\n",
        "print(emp_staff)\n",
        "emp_staff[0] = ('mohammed', 3000 ,27)\n",
        "emp_staff[2] = ('nelle', 7000 , 19)\n",
        "emp_staff[1] = ('leen',6000,20)\n",
        "print(emp_staff[0])\n",
        "print(emp_staff[1])\n",
        "print(emp_staff[2])\n",
        "print(emp_staff[1:])\n",
        "print(emp_staff['s'])\n",
        "salary = emp_staff['s']\n",
        "add_s = salary+2000\n",
        "print(add_s)\n",
        "age = emp_staff['a']\n",
        "add_a = age+3\n",
        "print(add_a)\n",
        "all_emp = np.zeros((4,3,2), dtype = emp_info)\n",
        "print(all_emp)\n",
        "\n",
        "all_emp[0,0,1]=('farah', 3000 ,24)\n",
        "all_emp[1,1,0]=('moh' , 4000 ,50)\n",
        "all_emp[3,2,0]=('lamia', 2000 ,40)\n",
        "print(all_emp)\n",
        "\n",
        "all_emp['n']\n"
      ],
      "execution_count": null,
      "outputs": [
        {
          "output_type": "stream",
          "text": [
            "[('n', 'S10'), ('s', 'f8'), ('a', 'i8')]\n",
            "[(b'', 0., 0) (b'', 0., 0) (b'', 0., 0)]\n",
            "(b'mohammed', 3000., 27)\n",
            "(b'leen', 6000., 20)\n",
            "(b'nelle', 7000., 19)\n",
            "[(b'leen', 6000., 20) (b'nelle', 7000., 19)]\n",
            "[3000. 6000. 7000.]\n",
            "[5000. 8000. 9000.]\n",
            "[30 23 22]\n",
            "[[[(b'', 0., 0) (b'', 0., 0)]\n",
            "  [(b'', 0., 0) (b'', 0., 0)]\n",
            "  [(b'', 0., 0) (b'', 0., 0)]]\n",
            "\n",
            " [[(b'', 0., 0) (b'', 0., 0)]\n",
            "  [(b'', 0., 0) (b'', 0., 0)]\n",
            "  [(b'', 0., 0) (b'', 0., 0)]]\n",
            "\n",
            " [[(b'', 0., 0) (b'', 0., 0)]\n",
            "  [(b'', 0., 0) (b'', 0., 0)]\n",
            "  [(b'', 0., 0) (b'', 0., 0)]]\n",
            "\n",
            " [[(b'', 0., 0) (b'', 0., 0)]\n",
            "  [(b'', 0., 0) (b'', 0., 0)]\n",
            "  [(b'', 0., 0) (b'', 0., 0)]]]\n",
            "[[[(b'',    0.,  0) (b'farah', 3000., 24)]\n",
            "  [(b'',    0.,  0) (b'',    0.,  0)]\n",
            "  [(b'',    0.,  0) (b'',    0.,  0)]]\n",
            "\n",
            " [[(b'',    0.,  0) (b'',    0.,  0)]\n",
            "  [(b'moh', 4000., 50) (b'',    0.,  0)]\n",
            "  [(b'',    0.,  0) (b'',    0.,  0)]]\n",
            "\n",
            " [[(b'',    0.,  0) (b'',    0.,  0)]\n",
            "  [(b'',    0.,  0) (b'',    0.,  0)]\n",
            "  [(b'',    0.,  0) (b'',    0.,  0)]]\n",
            "\n",
            " [[(b'',    0.,  0) (b'',    0.,  0)]\n",
            "  [(b'',    0.,  0) (b'',    0.,  0)]\n",
            "  [(b'lamia', 2000., 40) (b'',    0.,  0)]]]\n"
          ],
          "name": "stdout"
        },
        {
          "output_type": "execute_result",
          "data": {
            "text/plain": [
              "array([[[b'', b'farah'],\n",
              "        [b'', b''],\n",
              "        [b'', b'']],\n",
              "\n",
              "       [[b'', b''],\n",
              "        [b'moh', b''],\n",
              "        [b'', b'']],\n",
              "\n",
              "       [[b'', b''],\n",
              "        [b'', b''],\n",
              "        [b'', b'']],\n",
              "\n",
              "       [[b'', b''],\n",
              "        [b'', b''],\n",
              "        [b'lamia', b'']]], dtype='|S10')"
            ]
          },
          "metadata": {
            "tags": []
          },
          "execution_count": 12
        }
      ]
    },
    {
      "cell_type": "code",
      "metadata": {
        "id": "f16DEtfwEaFu",
        "colab_type": "code",
        "colab": {
          "base_uri": "https://localhost:8080/",
          "height": 272
        },
        "outputId": "fb1a8492-9c9f-4ac4-9ee1-7b175e4e5f8f"
      },
      "source": [
        "all_emp['s']"
      ],
      "execution_count": null,
      "outputs": [
        {
          "output_type": "execute_result",
          "data": {
            "text/plain": [
              "array([[[   0., 3000.],\n",
              "        [   0.,    0.],\n",
              "        [   0.,    0.]],\n",
              "\n",
              "       [[   0.,    0.],\n",
              "        [4000.,    0.],\n",
              "        [   0.,    0.]],\n",
              "\n",
              "       [[   0.,    0.],\n",
              "        [   0.,    0.],\n",
              "        [   0.,    0.]],\n",
              "\n",
              "       [[   0.,    0.],\n",
              "        [   0.,    0.],\n",
              "        [2000.,    0.]]])"
            ]
          },
          "metadata": {
            "tags": []
          },
          "execution_count": 14
        }
      ]
    },
    {
      "cell_type": "code",
      "metadata": {
        "id": "YS_OtpY-EdY0",
        "colab_type": "code",
        "colab": {
          "base_uri": "https://localhost:8080/",
          "height": 272
        },
        "outputId": "75b073cd-02bd-4d03-dc99-7d337d52ec3a"
      },
      "source": [
        "all_emp['a']"
      ],
      "execution_count": null,
      "outputs": [
        {
          "output_type": "execute_result",
          "data": {
            "text/plain": [
              "array([[[ 0, 24],\n",
              "        [ 0,  0],\n",
              "        [ 0,  0]],\n",
              "\n",
              "       [[ 0,  0],\n",
              "        [50,  0],\n",
              "        [ 0,  0]],\n",
              "\n",
              "       [[ 0,  0],\n",
              "        [ 0,  0],\n",
              "        [ 0,  0]],\n",
              "\n",
              "       [[ 0,  0],\n",
              "        [ 0,  0],\n",
              "        [40,  0]]])"
            ]
          },
          "metadata": {
            "tags": []
          },
          "execution_count": 13
        }
      ]
    },
    {
      "cell_type": "code",
      "metadata": {
        "id": "ELOwLXtCEvl2",
        "colab_type": "code",
        "colab": {
          "base_uri": "https://localhost:8080/",
          "height": 289
        },
        "outputId": "f85062e9-5455-4457-82cd-4cf1ac97d8d1"
      },
      "source": [
        "all_emp[['n','a']]"
      ],
      "execution_count": null,
      "outputs": [
        {
          "output_type": "execute_result",
          "data": {
            "text/plain": [
              "array([[[(b'',  0), (b'farah', 24)],\n",
              "        [(b'',  0), (b'',  0)],\n",
              "        [(b'',  0), (b'',  0)]],\n",
              "\n",
              "       [[(b'',  0), (b'',  0)],\n",
              "        [(b'moh', 50), (b'',  0)],\n",
              "        [(b'',  0), (b'',  0)]],\n",
              "\n",
              "       [[(b'',  0), (b'',  0)],\n",
              "        [(b'',  0), (b'',  0)],\n",
              "        [(b'',  0), (b'',  0)]],\n",
              "\n",
              "       [[(b'',  0), (b'',  0)],\n",
              "        [(b'',  0), (b'',  0)],\n",
              "        [(b'lamia', 40), (b'',  0)]]],\n",
              "      dtype={'names':['n','a'], 'formats':['S10','<i8'], 'offsets':[0,18], 'itemsize':26})"
            ]
          },
          "metadata": {
            "tags": []
          },
          "execution_count": 15
        }
      ]
    },
    {
      "cell_type": "code",
      "metadata": {
        "id": "4dZFfuAIFkL7",
        "colab_type": "code",
        "colab": {
          "base_uri": "https://localhost:8080/",
          "height": 51
        },
        "outputId": "928adb4f-909a-472c-ec16-c6039283d24b"
      },
      "source": [
        "import numpy as np\n",
        "myarray = [0.11,2.55,4.88,6.34]\n",
        "print(myarray)\n",
        "myarray2 = np.ceil(myarray)\n",
        "print(myarray2)\n"
      ],
      "execution_count": null,
      "outputs": [
        {
          "output_type": "stream",
          "text": [
            "[0.11, 2.55, 4.88, 6.34]\n",
            "[1. 3. 5. 7.]\n"
          ],
          "name": "stdout"
        }
      ]
    },
    {
      "cell_type": "code",
      "metadata": {
        "id": "ccATox9bU9dE",
        "colab_type": "code",
        "colab": {
          "base_uri": "https://localhost:8080/",
          "height": 51
        },
        "outputId": "4f736c89-d650-405d-d3bf-5b5e293cffd9"
      },
      "source": [
        "import numpy as np\n",
        "myarray3 = [100.2,32.0095,54.18,777.34]\n",
        "print(myarray3)\n",
        "myarray4 = np.ceil(myarray3)\n",
        "print(myarray4)"
      ],
      "execution_count": null,
      "outputs": [
        {
          "output_type": "stream",
          "text": [
            "[100.2, 32.0095, 54.18, 777.34]\n",
            "[101.  33.  55. 778.]\n"
          ],
          "name": "stdout"
        }
      ]
    },
    {
      "cell_type": "code",
      "metadata": {
        "id": "ECHmAhEiU91v",
        "colab_type": "code",
        "colab": {
          "base_uri": "https://localhost:8080/",
          "height": 51
        },
        "outputId": "2cc4f2ba-c39f-4f1e-a268-6682e46ee4b0"
      },
      "source": [
        "import numpy as np\n",
        "myarray5 = [1.6,5.2,4.9,10.8]\n",
        "print(myarray5)\n",
        "myarray6 = np.fix(myarray5)\n",
        "print(myarray6)"
      ],
      "execution_count": null,
      "outputs": [
        {
          "output_type": "stream",
          "text": [
            "[1.6, 5.2, 4.9, 10.8]\n",
            "[ 1.  5.  4. 10.]\n"
          ],
          "name": "stdout"
        }
      ]
    },
    {
      "cell_type": "code",
      "metadata": {
        "id": "xCfzNgxnXG7v",
        "colab_type": "code",
        "colab": {
          "base_uri": "https://localhost:8080/",
          "height": 85
        },
        "outputId": "bd9a9a6f-63b0-44ec-e53a-52bb9d5e4d34"
      },
      "source": [
        "myarray5 = [1.6,5.2,4.9,10.8]\n",
        "print(myarray5)\n",
        "myarray7 = np.floor(myarray5)\n",
        "print(myarray7)"
      ],
      "execution_count": null,
      "outputs": [
        {
          "output_type": "stream",
          "text": [
            "[1.6, 5.2, 4.9, 10.8]\n",
            "[ 1.  5.  4. 10.]\n",
            "[1.6, 5.2, 4.9, 10.8]\n",
            "[ 1.  5.  4. 10.]\n"
          ],
          "name": "stdout"
        }
      ]
    },
    {
      "cell_type": "code",
      "metadata": {
        "id": "-La91tJtXRfY",
        "colab_type": "code",
        "colab": {
          "base_uri": "https://localhost:8080/",
          "height": 51
        },
        "outputId": "da3dd8b2-f2a6-4fd0-d4ee-195fc5c0cf65"
      },
      "source": [
        "intarray=[12.6,15.52,41.9999,10.8888]\n",
        "print(intarray)\n",
        "myarray8= np.rint(intarray)\n",
        "print(myarray8)\n"
      ],
      "execution_count": null,
      "outputs": [
        {
          "output_type": "stream",
          "text": [
            "[12.6, 15.52, 41.9999, 10.8888]\n",
            "[13. 16. 42. 11.]\n"
          ],
          "name": "stdout"
        }
      ]
    },
    {
      "cell_type": "code",
      "metadata": {
        "id": "MR3sYJj_XZFG",
        "colab_type": "code",
        "colab": {
          "base_uri": "https://localhost:8080/",
          "height": 51
        },
        "outputId": "4def712f-adcb-47a7-eb73-cec55f93f6a9"
      },
      "source": [
        "intarray2=[12.3,15.12,41.4999,10.3888]\n",
        "print(intarray2)\n",
        "myarray9 = np.rint(intarray2)\n",
        "print(myarray9)\n"
      ],
      "execution_count": null,
      "outputs": [
        {
          "output_type": "stream",
          "text": [
            "[12.3, 15.12, 41.4999, 10.3888]\n",
            "[12. 15. 41. 10.]\n"
          ],
          "name": "stdout"
        }
      ]
    },
    {
      "cell_type": "code",
      "metadata": {
        "id": "nQBJH0qWsr9k",
        "colab_type": "code",
        "colab": {
          "base_uri": "https://localhost:8080/",
          "height": 170
        },
        "outputId": "67ead06e-2adb-4ffb-abbf-c4d4bf8a3027"
      },
      "source": [
        "import numpy.matlib \n",
        "myarray =np.matlib.eye(4 , k=0 , dtype=float)\n",
        "print(myarray)\n",
        "\n",
        "myarray2= np.matlib.eye(5, k=0, dtype=int)\n",
        "print(myarray2)"
      ],
      "execution_count": null,
      "outputs": [
        {
          "output_type": "stream",
          "text": [
            "[[1. 0. 0. 0.]\n",
            " [0. 1. 0. 0.]\n",
            " [0. 0. 1. 0.]\n",
            " [0. 0. 0. 1.]]\n",
            "[[1 0 0 0 0]\n",
            " [0 1 0 0 0]\n",
            " [0 0 1 0 0]\n",
            " [0 0 0 1 0]\n",
            " [0 0 0 0 1]]\n"
          ],
          "name": "stdout"
        }
      ]
    },
    {
      "cell_type": "code",
      "metadata": {
        "id": "gRSB3K8X1tUN",
        "colab_type": "code",
        "colab": {
          "base_uri": "https://localhost:8080/",
          "height": 102
        },
        "outputId": "0c8c872c-d5b8-458f-adfe-e5096598078e"
      },
      "source": [
        "myarray =np.matlib.identity(5,int)\n",
        "print(myarray)"
      ],
      "execution_count": null,
      "outputs": [
        {
          "output_type": "stream",
          "text": [
            "[[1 0 0 0 0]\n",
            " [0 1 0 0 0]\n",
            " [0 0 1 0 0]\n",
            " [0 0 0 1 0]\n",
            " [0 0 0 0 1]]\n"
          ],
          "name": "stdout"
        }
      ]
    },
    {
      "cell_type": "code",
      "metadata": {
        "id": "C0LT5Hrx1_KA",
        "colab_type": "code",
        "colab": {
          "base_uri": "https://localhost:8080/",
          "height": 238
        },
        "outputId": "79ee1988-6906-4566-eb98-b5aea924fce9"
      },
      "source": [
        "import numpy as np\n",
        "myarray =np.array([1,2,3,4,5,6,7])\n",
        "print(myarray)\n",
        "print(id(myarray))\n",
        "\n",
        "secarray = myarray\n",
        "print(secarray)\n",
        "print(id(secarray))\n",
        "print(myarray is secarray)\n",
        "print(myarray == secarray)\n",
        "secarray[2]= 22\n",
        "print(secarray)\n",
        "\n",
        "faraharray =np.array([11,22,33,44,55,66])\n",
        "print(faraharray)\n",
        "print(faraharray == myarray)\n",
        "print(id(faraharray))\n",
        "print(id(myarray))\n",
        "\n"
      ],
      "execution_count": null,
      "outputs": [
        {
          "output_type": "stream",
          "text": [
            "[1 2 3 4 5 6 7]\n",
            "140116472715344\n",
            "[1 2 3 4 5 6 7]\n",
            "140116472715344\n",
            "True\n",
            "[ True  True  True  True  True  True  True]\n",
            "[ 1  2 22  4  5  6  7]\n",
            "[11 22 33 44 55 66]\n",
            "False\n",
            "140116472665152\n",
            "140116472715344\n"
          ],
          "name": "stdout"
        },
        {
          "output_type": "stream",
          "text": [
            "/usr/local/lib/python3.6/dist-packages/ipykernel_launcher.py:16: DeprecationWarning: elementwise comparison failed; this will raise an error in the future.\n",
            "  app.launch_new_instance()\n"
          ],
          "name": "stderr"
        }
      ]
    },
    {
      "cell_type": "code",
      "metadata": {
        "id": "8_eh3nzb4anl",
        "colab_type": "code",
        "colab": {
          "base_uri": "https://localhost:8080/",
          "height": 136
        },
        "outputId": "48f84933-df9e-4149-bb56-538d60a03677"
      },
      "source": [
        "farray = np.array([1,2,3,4,5,6,7])\n",
        "print(farray)\n",
        "print(myarray)\n",
        "print(id(myarray))\n",
        "print(id(farray))\n",
        "print(id(secarray))\n",
        "print(secarray is myarray)\n",
        "farray[2] =33\n",
        "print(farray)"
      ],
      "execution_count": null,
      "outputs": [
        {
          "output_type": "stream",
          "text": [
            "[1 2 3 4 5 6 7]\n",
            "[ 1  2 22  4  5  6  7]\n",
            "140116472715344\n",
            "140116472714464\n",
            "140116472715344\n",
            "True\n",
            "[ 1  2 33  4  5  6  7]\n"
          ],
          "name": "stdout"
        }
      ]
    },
    {
      "cell_type": "code",
      "metadata": {
        "id": "F-mC5Iv7BzWB",
        "colab_type": "code",
        "colab": {
          "base_uri": "https://localhost:8080/",
          "height": 221
        },
        "outputId": "25a40deb-164f-4e5e-94e4-952a529ab6de"
      },
      "source": [
        "import numpy as np \n",
        "myarray = np.array(np.arange(24)).reshape(2,3,4)\n",
        "print(myarray)\n",
        "print(myarray.size)\n",
        "print(myarray.shape)\n",
        "print(myarray.itemsize)\n",
        "print(type(myarray))\n",
        "print(myarray.ndim)"
      ],
      "execution_count": null,
      "outputs": [
        {
          "output_type": "stream",
          "text": [
            "[[[ 0  1  2  3]\n",
            "  [ 4  5  6  7]\n",
            "  [ 8  9 10 11]]\n",
            "\n",
            " [[12 13 14 15]\n",
            "  [16 17 18 19]\n",
            "  [20 21 22 23]]]\n",
            "24\n",
            "(2, 3, 4)\n",
            "8\n",
            "<class 'numpy.ndarray'>\n",
            "3\n"
          ],
          "name": "stdout"
        }
      ]
    },
    {
      "cell_type": "code",
      "metadata": {
        "id": "lCvWf7ieDlL4",
        "colab_type": "code",
        "colab": {
          "base_uri": "https://localhost:8080/"
        },
        "outputId": "ca64d86b-e6fb-491d-eee2-3832e71bb41d"
      },
      "source": [
        "fstarray =np.array(np.arange(24))\n",
        "print(fstarray)\n",
        "f =np.transpose(fstarray)\n",
        "print(f)\n",
        "\n",
        "secarray =fstarray.reshape((3,8))\n",
        "print(secarray)\n",
        "s =np.transpose(secarray)\n",
        "print(s)\n",
        "\n",
        "thiarray =fstarray.reshape((2,3,4))\n",
        "print(thiarray)\n",
        "t =np.transpose(thiarray)\n",
        "print(t)\n",
        "\n",
        "print(thiarray)\n",
        "th =np.transpose(thiarray , axes=(0,1,2))\n",
        "print(th)"
      ],
      "execution_count": null,
      "outputs": [
        {
          "output_type": "stream",
          "text": [
            "[ 0  1  2  3  4  5  6  7  8  9 10 11 12 13 14 15 16 17 18 19 20 21 22 23]\n",
            "[ 0  1  2  3  4  5  6  7  8  9 10 11 12 13 14 15 16 17 18 19 20 21 22 23]\n",
            "[[ 0  1  2  3  4  5  6  7]\n",
            " [ 8  9 10 11 12 13 14 15]\n",
            " [16 17 18 19 20 21 22 23]]\n",
            "[[ 0  8 16]\n",
            " [ 1  9 17]\n",
            " [ 2 10 18]\n",
            " [ 3 11 19]\n",
            " [ 4 12 20]\n",
            " [ 5 13 21]\n",
            " [ 6 14 22]\n",
            " [ 7 15 23]]\n",
            "[[[ 0  1  2  3]\n",
            "  [ 4  5  6  7]\n",
            "  [ 8  9 10 11]]\n",
            "\n",
            " [[12 13 14 15]\n",
            "  [16 17 18 19]\n",
            "  [20 21 22 23]]]\n",
            "[[[ 0 12]\n",
            "  [ 4 16]\n",
            "  [ 8 20]]\n",
            "\n",
            " [[ 1 13]\n",
            "  [ 5 17]\n",
            "  [ 9 21]]\n",
            "\n",
            " [[ 2 14]\n",
            "  [ 6 18]\n",
            "  [10 22]]\n",
            "\n",
            " [[ 3 15]\n",
            "  [ 7 19]\n",
            "  [11 23]]]\n",
            "[[[ 0  1  2  3]\n",
            "  [ 4  5  6  7]\n",
            "  [ 8  9 10 11]]\n",
            "\n",
            " [[12 13 14 15]\n",
            "  [16 17 18 19]\n",
            "  [20 21 22 23]]]\n",
            "[[[ 0  1  2  3]\n",
            "  [ 4  5  6  7]\n",
            "  [ 8  9 10 11]]\n",
            "\n",
            " [[12 13 14 15]\n",
            "  [16 17 18 19]\n",
            "  [20 21 22 23]]]\n"
          ],
          "name": "stdout"
        }
      ]
    },
    {
      "cell_type": "code",
      "metadata": {
        "id": "fJIcuWPjIHRt",
        "colab_type": "code",
        "colab": {
          "base_uri": "https://localhost:8080/",
          "height": 68
        },
        "outputId": "b5dbbbe7-ff6e-4db4-c479-09537ea1be34"
      },
      "source": [
        "import numpy as np\n",
        "array1 = np.array([[1,2],[3,4]])\n",
        "array2 = np.array([[10,20],[30,40]])\n",
        "total = np.dot(array1,array2)\n",
        "print(total)\n",
        "total2 =np.vdot(array1,array2)\n",
        "print(total2)\n"
      ],
      "execution_count": null,
      "outputs": [
        {
          "output_type": "stream",
          "text": [
            "[[ 70 100]\n",
            " [150 220]]\n",
            "300\n"
          ],
          "name": "stdout"
        }
      ]
    },
    {
      "cell_type": "code",
      "metadata": {
        "id": "ybQSaLQsHsPY",
        "colab_type": "code",
        "colab": {
          "base_uri": "https://localhost:8080/",
          "height": 282
        },
        "outputId": "4a56442d-3d8a-44bf-916c-50820fba5127"
      },
      "source": [
        "import matplotlib.pyplot as plt\n",
        "plt.plot([1,2,3],[5,6,7])\n",
        "print(plt.plot)"
      ],
      "execution_count": null,
      "outputs": [
        {
          "output_type": "stream",
          "text": [
            "<function plot at 0x7efd3a7e51e0>\n"
          ],
          "name": "stdout"
        },
        {
          "output_type": "display_data",
          "data": {
            "image/png": "[encoded data removed]",
            "text/plain": [
              "<Figure size 432x288 with 1 Axes>"
            ]
          },
          "metadata": {
            "tags": [],
            "needs_background": "light"
          }
        }
      ]
    },
    {
      "cell_type": "code",
      "metadata": {
        "id": "qZbKBaFHVQbi",
        "colab_type": "code",
        "colab": {
          "base_uri": "https://localhost:8080/",
          "height": 282
        },
        "outputId": "88982406-3cc4-4d4f-c8be-6c5dcb146832"
      },
      "source": [
        "plt.plot([1,2,3,],[5,1,7])\n",
        "print(plt.plot)"
      ],
      "execution_count": null,
      "outputs": [
        {
          "output_type": "stream",
          "text": [
            "<function plot at 0x7efd3a7e51e0>\n"
          ],
          "name": "stdout"
        },
        {
          "output_type": "display_data",
          "data": {
            "image/png": "[encoded data removed]",
            "text/plain": [
              "<Figure size 432x288 with 1 Axes>"
            ]
          },
          "metadata": {
            "tags": [],
            "needs_background": "light"
          }
        }
      ]
    },
    {
      "cell_type": "code",
      "metadata": {
        "id": "tu8oqRAkV-gr",
        "colab_type": "code",
        "colab": {
          "base_uri": "https://localhost:8080/",
          "height": 295
        },
        "outputId": "dbafc7c3-e5dd-451c-839d-e5f9b6ea6b54"
      },
      "source": [
        "myarray1 =[4,1,6]\n",
        "myarray2 =[1,10,3]\n",
        "plt.plot(myarray1,myarray2 , 'ro')\n",
        "plt.title(\"TA\")\n",
        "plt.ylabel(\"YY\")\n",
        "plt.xlabel(\"XX\")\n",
        "plt.show()"
      ],
      "execution_count": null,
      "outputs": [
        {
          "output_type": "display_data",
          "data": {
            "image/png": "[encoded data removed]",
            "text/plain": [
              "<Figure size 432x288 with 1 Axes>"
            ]
          },
          "metadata": {
            "tags": [],
            "needs_background": "light"
          }
        }
      ]
    },
    {
      "cell_type": "code",
      "metadata": {
        "id": "RT74GfaPXACx",
        "colab_type": "code",
        "colab": {
          "base_uri": "https://localhost:8080/",
          "height": 295
        },
        "outputId": "f57dbfad-51a6-4970-815c-b0105b5fa7cc"
      },
      "source": [
        "myarray3=[1,2,3,4,1,6]\n",
        "plt.plot(myarray3,'^k:')\n",
        "plt.title(\"TA\")\n",
        "plt.ylabel(\"YY\")\n",
        "plt.xlabel(\"XX\")\n",
        "plt.show()"
      ],
      "execution_count": null,
      "outputs": [
        {
          "output_type": "display_data",
          "data": {
            "image/png": "[encoded data removed]",
            "text/plain": [
              "<Figure size 432x288 with 1 Axes>"
            ]
          },
          "metadata": {
            "tags": [],
            "needs_background": "light"
          }
        }
      ]
    },
    {
      "cell_type": "code",
      "metadata": {
        "id": "imjs07U0aFIv",
        "colab_type": "code",
        "colab": {
          "base_uri": "https://localhost:8080/",
          "height": 295
        },
        "outputId": "7e814c23-e309-4b29-df04-ab74c56dae2e"
      },
      "source": [
        "myarray3=[1,2,3,4,1,6]\n",
        "plt.plot(myarray3,'-g')\n",
        "plt.title(\"TA\")\n",
        "plt.ylabel(\"YY\")\n",
        "plt.xlabel(\"XX\")\n",
        "plt.show()"
      ],
      "execution_count": null,
      "outputs": [
        {
          "output_type": "display_data",
          "data": {
            "image/png": "[encoded data removed]",
            "text/plain": [
              "<Figure size 432x288 with 1 Axes>"
            ]
          },
          "metadata": {
            "tags": [],
            "needs_background": "light"
          }
        }
      ]
    },
    {
      "cell_type": "code",
      "metadata": {
        "id": "cZ409rCtbPfI",
        "colab_type": "code",
        "colab": {
          "base_uri": "https://localhost:8080/",
          "height": 295
        },
        "outputId": "2567f9ae-644c-41b3-a94a-80b919fd09d8"
      },
      "source": [
        "myarray3=[1,2,3,4,1,6]\n",
        "plt.plot(myarray3,'r')\n",
        "plt.title(\"TA\")\n",
        "plt.ylabel(\"YY\")\n",
        "plt.xlabel(\"XX\")\n",
        "plt.show()"
      ],
      "execution_count": null,
      "outputs": [
        {
          "output_type": "display_data",
          "data": {
            "image/png": "[encoded data removed]",
            "text/plain": [
              "<Figure size 432x288 with 1 Axes>"
            ]
          },
          "metadata": {
            "tags": [],
            "needs_background": "light"
          }
        }
      ]
    },
    {
      "cell_type": "code",
      "metadata": {
        "id": "pa-ubOpHbqwY",
        "colab_type": "code",
        "colab": {
          "base_uri": "https://localhost:8080/",
          "height": 295
        },
        "outputId": "8e3a475e-6b02-4adb-c210-1e85a5ec065f"
      },
      "source": [
        "myarray3=[1,2,3,4,1,6]\n",
        "plt.plot(myarray3,'g^')\n",
        "plt.title(\"TA\")\n",
        "plt.ylabel(\"YY\")\n",
        "plt.xlabel(\"XX\")\n",
        "plt.show()"
      ],
      "execution_count": null,
      "outputs": [
        {
          "output_type": "display_data",
          "data": {
            "image/png": "[encoded data removed]",
            "text/plain": [
              "<Figure size 432x288 with 1 Axes>"
            ]
          },
          "metadata": {
            "tags": [],
            "needs_background": "light"
          }
        }
      ]
    },
    {
      "cell_type": "code",
      "metadata": {
        "id": "tA6RP3cxbyky",
        "colab_type": "code",
        "colab": {
          "base_uri": "https://localhost:8080/",
          "height": 350
        },
        "outputId": "1d4f4a61-8069-4088-8551-e8bfa9748e21"
      },
      "source": [
        "import matplotlib.pyplot as plt\n",
        "empname=['farah','leen','neel','zait','zatar']\n",
        "empsalary=[7000,6000,5000,4000,3000]\n",
        "\n",
        "plt.figure(figsize=(15,5))\n",
        "plt.subplot(131)\n",
        "plt.bar(empname,empsalary)\n",
        "\n",
        "plt.subplot(132)\n",
        "plt.plot(empname,empsalary)\n",
        "\n",
        "plt.subplot(133)\n",
        "plt.scatter(empname,empsalary)\n",
        "\n",
        "plt.title(\"emp info\")\n",
        "plt.ylabel(\"salary\")\n",
        "plt.xlabel(\"name\")\n",
        "plt.show()\n",
        "\n",
        "\n"
      ],
      "execution_count": null,
      "outputs": [
        {
          "output_type": "display_data",
          "data": {
            "image/png": "[encoded data removed]",
            "text/plain": [
              "<Figure size 1080x360 with 3 Axes>"
            ]
          },
          "metadata": {
            "tags": [],
            "needs_background": "light"
          }
        }
      ]
    },
    {
      "cell_type": "code",
      "metadata": {
        "id": "WO3ako7amP0S",
        "colab_type": "code",
        "colab": {
          "base_uri": "https://localhost:8080/",
          "height": 264
        },
        "outputId": "2ffa2aa3-bb0c-4cbe-d532-c8385fba3b6a"
      },
      "source": [
        "import matplotlib.pyplot as plt\n",
        "sizes=[1.35,3.60,2.25,1.80]\n",
        "labels = 'Eng','Manu','Sales','Profit'\n",
        "plt.pie(sizes , labels=labels)\n",
        "plt.pie(sizes ,colors=['r','g','b','y'])\n",
        "plt.pie(sizes,shadow=True)\n",
        "plt.title(\"cost\")\n",
        "plt.axis(\"equal\")\n",
        "plt.show()"
      ],
      "execution_count": null,
      "outputs": [
        {
          "output_type": "display_data",
          "data": {
            "image/png": "[encoded data removed]",
            "text/plain": [
              "<Figure size 432x288 with 1 Axes>"
            ]
          },
          "metadata": {
            "tags": []
          }
        }
      ]
    },
    {
      "cell_type": "code",
      "metadata": {
        "id": "PUF3k0iIramz",
        "colab_type": "code",
        "colab": {
          "base_uri": "https://localhost:8080/",
          "height": 281
        },
        "outputId": "72d41d0a-ca2f-4b4c-8503-75ce28b01368"
      },
      "source": [
        "##مو انا اللي كتبته هاد بس حطيته هون لانه درستهبس الل قبله انا :)\n",
        "import numpy as np\n",
        "import matplotlib.pyplot as plt\n",
        "\n",
        "\n",
        "labels = ['G1', 'G2', 'G3', 'G4', 'G5']\n",
        "men_means = [20, 35, 30, 35, 27]\n",
        "women_means = [25, 32, 34, 20, 25]\n",
        "men_std = [2, 3, 4, 1, 2]\n",
        "women_std = [3, 5, 2, 3, 3]\n",
        "width = 0.35       \n",
        "\n",
        "fig, ax = plt.subplots()\n",
        "\n",
        "ax.bar(labels, men_means, width, yerr=men_std, label='Men')\n",
        "ax.bar(labels, women_means, width, yerr=women_std, bottom=men_means,\n",
        "       label='Women')\n",
        "\n",
        "ax.set_ylabel('Scores')\n",
        "ax.set_title('Scores by group and gender')\n",
        "ax.legend()\n",
        "\n",
        "plt.show()"
      ],
      "execution_count": null,
      "outputs": [
        {
          "output_type": "display_data",
          "data": {
            "image/png": "[encoded data removed]",
            "text/plain": [
              "<Figure size 432x288 with 1 Axes>"
            ]
          },
          "metadata": {
            "tags": [],
            "needs_background": "light"
          }
        }
      ]
    },
    {
      "cell_type": "code",
      "metadata": {
        "id": "9UbmjdqC7uWl",
        "colab_type": "code",
        "colab": {
          "base_uri": "https://localhost:8080/",
          "height": 204
        },
        "outputId": "87ff75f4-ff3e-4170-93da-2ddfc2c5a65e"
      },
      "source": [
        "a = 33\n",
        "b = 200\n",
        "if b > a:\n",
        "  print(\"b is greater than a\")\n",
        "\n",
        "  a = 33\n",
        "  b = 33\n",
        "if b > a:\n",
        "  print(\"b is greater than a\")\n",
        "elif a == b:\n",
        "  print(b)\n",
        "  print(\"a and b are equal\")\n",
        "\n",
        "a = 200\n",
        "b = 33\n",
        "if b > a:\n",
        "  print(\"b is greater than a\")\n",
        "else:\n",
        "  print(\"b is not greater than a\")\n",
        "\n",
        "  if a > b: print(\"a is greater than b\")\n",
        "\n",
        "  a = 200\n",
        "b = 330\n",
        "print(\"A\") if a > b else print(\"B\")\n",
        "\n",
        "a = 330\n",
        "b = 330\n",
        "print(\"A\") if a > b else print(\"=\") if a == b else print(\"B\")\n",
        "\n",
        "a = 200\n",
        "b = 33\n",
        "c = 500\n",
        "if a > b and c > a:\n",
        "  print(\"Both conditions are True\")\n",
        "\n",
        "  a = 200\n",
        "b = 33\n",
        "c = 50\n",
        "if a > b and c > a:\n",
        "  print(\"Both conditions are True\") \n",
        "else:\n",
        "  print(\"one of the cond. not true\")\n",
        "\n",
        "  x =41\n",
        "  if x>10:\n",
        "    print(\"above ten\")\n",
        "    if x>20:\n",
        "     print(\"above 20!\")\n",
        "  else:\n",
        "     print(\"but not above 20\")\n",
        "\n",
        "a=7\n",
        "b=8\n",
        "if a>b:\n",
        " pass\n"
      ],
      "execution_count": null,
      "outputs": [
        {
          "output_type": "stream",
          "text": [
            "b is greater than a\n",
            "33\n",
            "a and b are equal\n",
            "b is not greater than a\n",
            "a is greater than b\n",
            "B\n",
            "=\n",
            "Both conditions are True\n",
            "one of the cond. not true\n",
            "above ten\n",
            "above 20!\n"
          ],
          "name": "stdout"
        }
      ]
    },
    {
      "cell_type": "code",
      "metadata": {
        "id": "xSWb2TPex_ja",
        "colab_type": "code",
        "colab": {
          "base_uri": "https://localhost:8080/",
          "height": 102
        },
        "outputId": "0f64bf95-c06c-4243-cb9b-7f91fb68b9b1"
      },
      "source": [
        "i = 1\n",
        "while i < 6:\n",
        "  print(i)\n",
        "  i += 1"
      ],
      "execution_count": null,
      "outputs": [
        {
          "output_type": "stream",
          "text": [
            "1\n",
            "2\n",
            "3\n",
            "4\n",
            "5\n"
          ],
          "name": "stdout"
        }
      ]
    },
    {
      "cell_type": "code",
      "metadata": {
        "id": "wQmWDlwOC5Pe",
        "colab_type": "code",
        "colab": {
          "base_uri": "https://localhost:8080/",
          "height": 68
        },
        "outputId": "654e7842-0113-41d3-86f1-a5d52f8df698"
      },
      "source": [
        "i = 1\n",
        "while i < 6:\n",
        "  print(i)\n",
        "  if i == 3:\n",
        "    break\n",
        "  i += 1"
      ],
      "execution_count": null,
      "outputs": [
        {
          "output_type": "stream",
          "text": [
            "1\n",
            "2\n",
            "3\n"
          ],
          "name": "stdout"
        }
      ]
    },
    {
      "cell_type": "code",
      "metadata": {
        "id": "ipO2klcnC6kW",
        "colab_type": "code",
        "colab": {
          "base_uri": "https://localhost:8080/",
          "height": 102
        },
        "outputId": "84bae41e-e47d-43e4-e700-d8de0e0f2a77"
      },
      "source": [
        "i = 0\n",
        "while i < 6:\n",
        "  i += 1\n",
        "  if i == 3:\n",
        "    continue\n",
        "  print(i)\n"
      ],
      "execution_count": null,
      "outputs": [
        {
          "output_type": "stream",
          "text": [
            "1\n",
            "2\n",
            "4\n",
            "5\n",
            "6\n"
          ],
          "name": "stdout"
        }
      ]
    },
    {
      "cell_type": "code",
      "metadata": {
        "id": "Hp1OKO1GEWgx",
        "colab_type": "code",
        "colab": {
          "base_uri": "https://localhost:8080/",
          "height": 119
        },
        "outputId": "f910d56c-a525-4406-8374-7302989f6aa9"
      },
      "source": [
        "i = 1\n",
        "while i < 6:\n",
        "  print(i)\n",
        "  i += 1\n",
        "else:\n",
        "    print(\"stop\")"
      ],
      "execution_count": null,
      "outputs": [
        {
          "output_type": "stream",
          "text": [
            "1\n",
            "2\n",
            "3\n",
            "4\n",
            "5\n",
            "stop\n"
          ],
          "name": "stdout"
        }
      ]
    },
    {
      "cell_type": "code",
      "metadata": {
        "id": "Zr0RWJF3E0lG",
        "colab_type": "code",
        "colab": {
          "base_uri": "https://localhost:8080/",
          "height": 68
        },
        "outputId": "73475ec1-6941-4774-b17f-8d8d569f1985"
      },
      "source": [
        "fruits =[\"apple\",\"banana\",\"cherry\"]\n",
        "for x in fruits :\n",
        "  print(x)"
      ],
      "execution_count": null,
      "outputs": [
        {
          "output_type": "stream",
          "text": [
            "apple\n",
            "banana\n",
            "cherry\n"
          ],
          "name": "stdout"
        }
      ]
    },
    {
      "cell_type": "code",
      "metadata": {
        "id": "FHWKoHfXFK9K",
        "colab_type": "code",
        "colab": {
          "base_uri": "https://localhost:8080/",
          "height": 51
        },
        "outputId": "121351d9-a37a-4788-b1b7-810b35d2f2ac"
      },
      "source": [
        "fruits =[\"apple\",\"banana\",\"cherry\"]\n",
        "for x in fruits :\n",
        "  print(x)\n",
        "  if x == \"banana\":\n",
        "    break"
      ],
      "execution_count": null,
      "outputs": [
        {
          "output_type": "stream",
          "text": [
            "apple\n",
            "banana\n"
          ],
          "name": "stdout"
        }
      ]
    },
    {
      "cell_type": "code",
      "metadata": {
        "id": "yta7q6UyFVsK",
        "colab_type": "code",
        "colab": {
          "base_uri": "https://localhost:8080/",
          "height": 51
        },
        "outputId": "bcb5cd87-9442-4b7d-c417-648d5b72dc15"
      },
      "source": [
        "fruits = [\"apple\",\"banana\",\"cherry\"]\n",
        "for x in fruits :\n",
        "  if x == \"banana\":\n",
        "    continue\n",
        "  print(x)\n"
      ],
      "execution_count": null,
      "outputs": [
        {
          "output_type": "stream",
          "text": [
            "apple\n",
            "cherry\n"
          ],
          "name": "stdout"
        }
      ]
    },
    {
      "cell_type": "code",
      "metadata": {
        "id": "W_cKgbgDGLeD",
        "colab_type": "code",
        "colab": {
          "base_uri": "https://localhost:8080/",
          "height": 374
        },
        "outputId": "8db4ac5d-b12d-4fe2-e4fd-cff6019f625a"
      },
      "source": [
        "for x in range(6):\n",
        "  print(x)\n",
        "\n",
        "for x in range(2 , 6):\n",
        "  print(x)\n",
        "\n",
        "for x in range(2 , 30 , 3):\n",
        "  print(x)\n",
        "else:\n",
        "    print(\"finally\")\n",
        "\n",
        "    "
      ],
      "execution_count": null,
      "outputs": [
        {
          "output_type": "stream",
          "text": [
            "0\n",
            "1\n",
            "2\n",
            "3\n",
            "4\n",
            "5\n",
            "2\n",
            "3\n",
            "4\n",
            "5\n",
            "2\n",
            "5\n",
            "8\n",
            "11\n",
            "14\n",
            "17\n",
            "20\n",
            "23\n",
            "26\n",
            "29\n",
            "finally\n"
          ],
          "name": "stdout"
        }
      ]
    },
    {
      "cell_type": "code",
      "metadata": {
        "id": "8Hx6ApFiLK0g",
        "colab_type": "code",
        "colab": {
          "base_uri": "https://localhost:8080/",
          "height": 170
        },
        "outputId": "8617dbd2-ea6e-40ee-b390-d1dd735e5f4d"
      },
      "source": [
        "c =[\"red\",\"yellow\",\"blue\"]\n",
        "j =[\"apple\",\"banana\",\"cherry\"]\n",
        "for x in c:\n",
        " for y in j:\n",
        "    print(x ,y)\n",
        "\n",
        "for x in[0,1,2]:\n",
        " pass\n"
      ],
      "execution_count": null,
      "outputs": [
        {
          "output_type": "stream",
          "text": [
            "red apple\n",
            "red banana\n",
            "red cherry\n",
            "yellow apple\n",
            "yellow banana\n",
            "yellow cherry\n",
            "blue apple\n",
            "blue banana\n",
            "blue cherry\n"
          ],
          "name": "stdout"
        }
      ]
    },
    {
      "cell_type": "code",
      "metadata": {
        "id": "pQhGEtACMW3Q",
        "colab_type": "code",
        "colab": {
          "base_uri": "https://localhost:8080/",
          "height": 85
        },
        "outputId": "47b092ef-b946-427c-a993-153f83511c32"
      },
      "source": [
        "def myfunc(fname):\n",
        "  print(fname)\n",
        "myfunc(\"farah\")\n",
        "myfunc(\"leen\")\n",
        "myfunc(\"nelle\")\n",
        "myfunc(\"zatar\")\n"
      ],
      "execution_count": null,
      "outputs": [
        {
          "output_type": "stream",
          "text": [
            "farah\n",
            "leen\n",
            "nelle\n",
            "zatar\n"
          ],
          "name": "stdout"
        }
      ]
    },
    {
      "cell_type": "code",
      "metadata": {
        "id": "23EozV6mM2P6",
        "colab_type": "code",
        "colab": {
          "base_uri": "https://localhost:8080/",
          "height": 51
        },
        "outputId": "55728a54-5fe5-4fd1-a5f1-241d6f579661"
      },
      "source": [
        "def myfunc(*kids):\n",
        "  print(\"the youngest \"+ kids[2])\n",
        "myfunc(\"farah\",\"leen\",\"nelle\")\n",
        "\n",
        "\n",
        "def myfunc(**kid):\n",
        "  print(kid[\"lname\"])\n",
        "myfunc(fname = \"farah\" , lname = \"altaha\")"
      ],
      "execution_count": null,
      "outputs": [
        {
          "output_type": "stream",
          "text": [
            "the youngest nelle\n",
            "altaha\n"
          ],
          "name": "stdout"
        }
      ]
    },
    {
      "cell_type": "code",
      "metadata": {
        "id": "l8oRiuRjNZeM",
        "colab_type": "code",
        "colab": {
          "base_uri": "https://localhost:8080/",
          "height": 119
        },
        "outputId": "c454c570-6ce1-4078-82bd-9a5739302d2a"
      },
      "source": [
        "def myfunc(fname , lname):\n",
        "  print(fname,\"\",lname)\n",
        "myfunc(\"farah\",\"altaha\")\n",
        "\n",
        "print(\"    \")\n",
        "\n",
        "def my_function(country = \"Norway\"):\n",
        "  print(\"I am from \" + country)\n",
        "\n",
        "my_function(\"Sweden\")\n",
        "my_function(\"India\")\n",
        "my_function()\n",
        "my_function(\"Brazil\")\n"
      ],
      "execution_count": null,
      "outputs": [
        {
          "output_type": "stream",
          "text": [
            "farah  altaha\n",
            "    \n",
            "I am from Sweden\n",
            "I am from India\n",
            "I am from Norway\n",
            "I am from Brazil\n"
          ],
          "name": "stdout"
        }
      ]
    },
    {
      "cell_type": "code",
      "metadata": {
        "id": "l9NXxgjqRjQQ",
        "colab_type": "code",
        "colab": {
          "base_uri": "https://localhost:8080/",
          "height": 68
        },
        "outputId": "1c4e5996-36c5-4fe3-99b7-035b636ba5bd"
      },
      "source": [
        "def myfunc(food):\n",
        "  for x in food:\n",
        "    print(x)\n",
        "fruits=[\"apple\",\"banana\",\"cherry\"]\n",
        "    \n",
        "myfunc(fruits)\n"
      ],
      "execution_count": null,
      "outputs": [
        {
          "output_type": "stream",
          "text": [
            "apple\n",
            "banana\n",
            "cherry\n"
          ],
          "name": "stdout"
        }
      ]
    },
    {
      "cell_type": "code",
      "metadata": {
        "id": "_tvqvn2fVjE8",
        "colab_type": "code",
        "colab": {
          "base_uri": "https://localhost:8080/",
          "height": 68
        },
        "outputId": "0a284003-ab52-4dd0-e006-afd1211dcded"
      },
      "source": [
        "def myfunc(x):\n",
        " return 5*x\n",
        "print(myfunc(5))\n",
        "print(myfunc(3))\n",
        "print(myfunc(9))"
      ],
      "execution_count": null,
      "outputs": [
        {
          "output_type": "stream",
          "text": [
            "25\n",
            "15\n",
            "45\n"
          ],
          "name": "stdout"
        }
      ]
    },
    {
      "cell_type": "code",
      "metadata": {
        "id": "R1yOr4eGWPtW",
        "colab_type": "code",
        "colab": {
          "base_uri": "https://localhost:8080/",
          "height": 153
        },
        "outputId": "8e30ca39-3e22-41e5-e85e-3df3fead94be"
      },
      "source": [
        "def f_recursion(a):\n",
        "  if(a>0):\n",
        "    result = a + f_recursion(a - 1)\n",
        "    print (result)\n",
        "  else:\n",
        "    result = 0\n",
        "  return result\n",
        "\n",
        "print(\"rec ex\")\n",
        "f_recursion(6)\n"
      ],
      "execution_count": null,
      "outputs": [
        {
          "output_type": "stream",
          "text": [
            "rec ex\n",
            "1\n",
            "3\n",
            "6\n",
            "10\n",
            "15\n",
            "21\n"
          ],
          "name": "stdout"
        },
        {
          "output_type": "execute_result",
          "data": {
            "text/plain": [
              "21"
            ]
          },
          "metadata": {
            "tags": []
          },
          "execution_count": 2
        }
      ]
    },
    {
      "cell_type": "code",
      "metadata": {
        "id": "BfbWSw8aZ93a",
        "colab_type": "code",
        "colab": {
          "base_uri": "https://localhost:8080/",
          "height": 1000
        },
        "outputId": "f7e0f135-cc5f-4f7d-e6ed-127c7817972d"
      },
      "source": [
        "import pandas as pd\n",
        "arr = [0,1,2,3,4]\n",
        "s1 = pd.Series(arr)\n",
        "print(s1)\n",
        "\n",
        "import pandas as pd\n",
        "print(pd.__version__)\n",
        "\n",
        "order = [1,2,3,4,5]\n",
        "s2 = pd.Series(arr , index=order)\n",
        "print(s2)\n",
        "\n",
        "a = ['name','age','salary']\n",
        "b = ['farah' , 24 , 5000]\n",
        "s3 =pd.Series(data=b , index= a)\n",
        "print(s3)\n",
        "print(b[0])\n",
        "\n",
        "s4 = pd.Series(b)\n",
        "print(s4)\n",
        "\n",
        "pd.Series([str , print])\n",
        "\n",
        "import numpy as np\n",
        "n = np.random.randn (5)\n",
        "index = ['a','b','c','d','e']\n",
        "s2 = pd.Series(data=n , index=index)\n",
        "print(s2)\n",
        "\n",
        "\n",
        "d ={'a':1,'b':2,'c':3}\n",
        "s5 = pd.Series(d)\n",
        "print(s5)\n",
        "\n",
        "\n",
        "print(s1)\n",
        "s1.index= ['A','B','C','D','E']\n",
        "print(s1)\n",
        "\n",
        "a =s1[:3]\n",
        "print(a)\n",
        "\n",
        "s4 = s1.append(s2)\n",
        "print(s4)\n",
        "\n",
        "s4.drop('e')\n",
        "\n",
        "arr1 =[0,1,2,3,4,5,7]\n",
        "arr2 =[6,7,8,9,5]\n",
        "s5 = pd.Series(arr2)\n",
        "print(s5)\n",
        "s6 = pd.Series(arr1)\n",
        "print(s6)\n",
        "\n",
        "s5.add(s6)\n",
        "\n",
        "print(s6.median())\n",
        "print(s6.max())\n",
        "print(s6.min())\n",
        "\n",
        "dates =pd.date_range(start='2020-03-20 00:00', end='2020-03-21 00:00', periods=6)\n",
        "print(dates)\n",
        "\n",
        "num_arr=np.random.randn(6,4)\n",
        "print(num_arr)\n",
        "\n",
        "columns =['A','B','C','D']\n",
        "print(columns)\n",
        "\n",
        "df1 =pd.DataFrame(num_arr , index=dates,columns=columns)\n",
        "print (df1)"
      ],
      "execution_count": null,
      "outputs": [
        {
          "output_type": "stream",
          "text": [
            "0    0\n",
            "1    1\n",
            "2    2\n",
            "3    3\n",
            "4    4\n",
            "dtype: int64\n",
            "1.0.5\n",
            "1    0\n",
            "2    1\n",
            "3    2\n",
            "4    3\n",
            "5    4\n",
            "dtype: int64\n",
            "name      farah\n",
            "age          24\n",
            "salary     5000\n",
            "dtype: object\n",
            "farah\n",
            "0    farah\n",
            "1       24\n",
            "2     5000\n",
            "dtype: object\n",
            "a   -1.033200\n",
            "b   -0.192820\n",
            "c   -0.243905\n",
            "d   -0.629136\n",
            "e   -0.749979\n",
            "dtype: float64\n",
            "a    1\n",
            "b    2\n",
            "c    3\n",
            "dtype: int64\n",
            "0    0\n",
            "1    1\n",
            "2    2\n",
            "3    3\n",
            "4    4\n",
            "dtype: int64\n",
            "A    0\n",
            "B    1\n",
            "C    2\n",
            "D    3\n",
            "E    4\n",
            "dtype: int64\n",
            "A    0\n",
            "B    1\n",
            "C    2\n",
            "dtype: int64\n",
            "A    0.000000\n",
            "B    1.000000\n",
            "C    2.000000\n",
            "D    3.000000\n",
            "E    4.000000\n",
            "a   -1.033200\n",
            "b   -0.192820\n",
            "c   -0.243905\n",
            "d   -0.629136\n",
            "e   -0.749979\n",
            "dtype: float64\n",
            "0    6\n",
            "1    7\n",
            "2    8\n",
            "3    9\n",
            "4    5\n",
            "dtype: int64\n",
            "0    0\n",
            "1    1\n",
            "2    2\n",
            "3    3\n",
            "4    4\n",
            "5    5\n",
            "6    7\n",
            "dtype: int64\n",
            "3.0\n",
            "7\n",
            "0\n",
            "DatetimeIndex(['2020-03-20 00:00:00', '2020-03-20 04:48:00',\n",
            "               '2020-03-20 09:36:00', '2020-03-20 14:24:00',\n",
            "               '2020-03-20 19:12:00', '2020-03-21 00:00:00'],\n",
            "              dtype='datetime64[ns]', freq=None)\n",
            "[[-1.29829375  1.13922819  0.63858217 -0.5014059 ]\n",
            " [-0.47410262 -0.84704003 -0.41525668  1.45509848]\n",
            " [-0.07547842 -0.20216568  0.64193179  0.5930127 ]\n",
            " [ 1.74608092  0.15213358  2.1621345   1.33789352]\n",
            " [-0.09901251  1.17661515 -1.61108141 -1.16074907]\n",
            " [ 1.16466675 -1.14629813 -1.65833609  0.51998149]]\n",
            "['A', 'B', 'C', 'D']\n",
            "                            A         B         C         D\n",
            "2020-03-20 00:00:00 -1.298294  1.139228  0.638582 -0.501406\n",
            "2020-03-20 04:48:00 -0.474103 -0.847040 -0.415257  1.455098\n",
            "2020-03-20 09:36:00 -0.075478 -0.202166  0.641932  0.593013\n",
            "2020-03-20 14:24:00  1.746081  0.152134  2.162134  1.337894\n",
            "2020-03-20 19:12:00 -0.099013  1.176615 -1.611081 -1.160749\n",
            "2020-03-21 00:00:00  1.164667 -1.146298 -1.658336  0.519981\n"
          ],
          "name": "stdout"
        }
      ]
    },
    {
      "cell_type": "code",
      "metadata": {
        "id": "l7hIL6cEmAZy",
        "colab_type": "code",
        "colab": {
          "base_uri": "https://localhost:8080/",
          "height": 391
        },
        "outputId": "1e1a5d50-7df7-41ae-8407-2fe09f1d3662"
      },
      "source": [
        "import pandas as pd\n",
        "df =pd.DataFrame([0,0,1,1,1,2,2,3,3,4])\n",
        "print(df)\n",
        "df.loc[df [0].shift() != df[0]]"
      ],
      "execution_count": null,
      "outputs": [
        {
          "output_type": "stream",
          "text": [
            "   0\n",
            "0  0\n",
            "1  0\n",
            "2  1\n",
            "3  1\n",
            "4  1\n",
            "5  2\n",
            "6  2\n",
            "7  3\n",
            "8  3\n",
            "9  4\n"
          ],
          "name": "stdout"
        },
        {
          "output_type": "execute_result",
          "data": {
            "text/html": [
              "<div>\n",
              "<style scoped>\n",
              "    .dataframe tbody tr th:only-of-type {\n",
              "        vertical-align: middle;\n",
              "    }\n",
              "\n",
              "    .dataframe tbody tr th {\n",
              "        vertical-align: top;\n",
              "    }\n",
              "\n",
              "    .dataframe thead th {\n",
              "        text-align: right;\n",
              "    }\n",
              "</style>\n",
              "<table border=\"1\" class=\"dataframe\">\n",
              "  <thead>\n",
              "    <tr style=\"text-align: right;\">\n",
              "      <th></th>\n",
              "      <th>0</th>\n",
              "    </tr>\n",
              "  </thead>\n",
              "  <tbody>\n",
              "    <tr>\n",
              "      <th>0</th>\n",
              "      <td>0</td>\n",
              "    </tr>\n",
              "    <tr>\n",
              "      <th>2</th>\n",
              "      <td>1</td>\n",
              "    </tr>\n",
              "    <tr>\n",
              "      <th>5</th>\n",
              "      <td>2</td>\n",
              "    </tr>\n",
              "    <tr>\n",
              "      <th>7</th>\n",
              "      <td>3</td>\n",
              "    </tr>\n",
              "    <tr>\n",
              "      <th>9</th>\n",
              "      <td>4</td>\n",
              "    </tr>\n",
              "  </tbody>\n",
              "</table>\n",
              "</div>"
            ],
            "text/plain": [
              "   0\n",
              "0  0\n",
              "2  1\n",
              "5  2\n",
              "7  3\n",
              "9  4"
            ]
          },
          "metadata": {
            "tags": []
          },
          "execution_count": 14
        }
      ]
    },
    {
      "cell_type": "code",
      "metadata": {
        "id": "ugcprmiv0AZn",
        "colab_type": "code",
        "colab": {
          "base_uri": "https://localhost:8080/",
          "height": 34
        },
        "outputId": "8f1de181-71cb-48ca-90f2-e050ba4c43bd"
      },
      "source": [
        "a = \"2\"\n",
        "b = \"3\"\n",
        "c = (int (a) * int (b))\n",
        "print(c)"
      ],
      "execution_count": null,
      "outputs": [
        {
          "output_type": "stream",
          "text": [
            "6\n"
          ],
          "name": "stdout"
        }
      ]
    },
    {
      "cell_type": "code",
      "metadata": {
        "id": "sOm86p5-2mS2",
        "colab_type": "code",
        "colab": {
          "base_uri": "https://localhost:8080/",
          "height": 51
        },
        "outputId": "976f84dd-306b-48e1-99ec-94ef0aca4921"
      },
      "source": [
        "import numpy as np \n",
        "%matplotlib\n",
        "ts =pd.Series(np.random.randn(50),index=pd.date_range(start='2019-03-20' , end= '2019-05-20',periods=50))\n",
        "ts = ts.cumsum()\n",
        "ts.plot()\n",
        "\n",
        "\n",
        "df=pd.DataFrame(np.random.randn(50,4),index=ts.index)\n",
        "col=['A','B','X','Y']\n",
        "df=df.cumsum()\n",
        "df.plot()"
      ],
      "execution_count": null,
      "outputs": [
        {
          "output_type": "stream",
          "text": [
            "Using matplotlib backend: agg\n"
          ],
          "name": "stdout"
        },
        {
          "output_type": "execute_result",
          "data": {
            "text/plain": [
              "<matplotlib.axes._subplots.AxesSubplot at 0x7f48c40489e8>"
            ]
          },
          "metadata": {
            "tags": []
          },
          "execution_count": 104
        }
      ]
    },
    {
      "cell_type": "code",
      "metadata": {
        "id": "UFy63fuTjfpw",
        "colab_type": "code",
        "colab": {
          "base_uri": "https://localhost:8080/",
          "height": 440
        },
        "outputId": "3b43f7dc-c3c5-4626-8c9f-dbad4e61a13c"
      },
      "source": [
        "##PART 1 \n",
        "\n",
        "import pandas as pd\n",
        "import numpy as np\n",
        "import matplotlib.pyplot as plt\n",
        "import random\n",
        "\n",
        "data = {'ID':[],'Course':[], 'Grades':[]}\n",
        "df = pd.DataFrame(data, columns = ['ID','Course','Grades'])\n",
        "print (df)\n",
        "\n",
        "myarr =[\"MATH\",\"ENGLISH\",\"ARABIC\"]\n",
        "print(myarr)\n",
        "\n",
        "data2 ={'STUDENTS':['farah','std2','std3','std4','std5','std6','std7','std8','std9','std10']}\n",
        "df = pd.DataFrame(data2)\n",
        "print(df) \n",
        "\n",
        "id = (np.random.randint(low=1,high=200,size=10))\n",
        "print(id)\n",
        "\n",
        "gardes = (np.random.uniform(low=10.5,high=99.5,size=10))\n",
        "print(gardes)\n",
        "  \n",
        "\n",
        "for i in range(0,10):\n",
        "  id = random.randint(1,200)\n",
        "  if id<10:\n",
        "    print(\"math\")\n",
        "  elif id >10 and id<100:\n",
        "    print(\"STAT\")\n",
        "\n",
        "  \n"
      ],
      "execution_count": 6,
      "outputs": [
        {
          "output_type": "stream",
          "text": [
            "Empty DataFrame\n",
            "Columns: [ID, Course, Grades]\n",
            "Index: []\n",
            "['MATH', 'ENGLISH', 'ARABIC']\n",
            "  STUDENTS\n",
            "0    farah\n",
            "1     std2\n",
            "2     std3\n",
            "3     std4\n",
            "4     std5\n",
            "5     std6\n",
            "6     std7\n",
            "7     std8\n",
            "8     std9\n",
            "9    std10\n",
            "[155  11 137  87 192 106  39 153 125 130]\n",
            "[73.89121039 79.93456625 84.41334484 32.83952763 72.94779491 29.51168967\n",
            " 17.89994442 38.54647197 76.1736077  70.34433351]\n",
            "STAT\n",
            "STAT\n",
            "STAT\n",
            "STAT\n",
            "STAT\n",
            "STAT\n"
          ],
          "name": "stdout"
        }
      ]
    },
    {
      "cell_type": "code",
      "metadata": {
        "id": "xIi1ej06yc5u",
        "colab_type": "code",
        "colab": {
          "base_uri": "https://localhost:8080/",
          "height": 651
        },
        "outputId": "189f5b41-40cf-4e47-bd65-34518eca177f"
      },
      "source": [
        "##PART 2\n",
        "\n",
        "import pandas as pd\n",
        "import numpy as np\n",
        "import matplotlib.pyplot as plt\n",
        "\n",
        "myfile=pd.read_csv(\"https://datasciencedatasets.s3.amazonaws.com/breast_cancer_data_blueprints10.csv\")\n",
        "my_df=pd.DataFrame(myfile)\n",
        "print('columns are',my_df.columns)\n",
        "print('first 10',my_df.head(10))\n",
        "print('last 10',my_df.tail(10))\n"
      ],
      "execution_count": 7,
      "outputs": [
        {
          "output_type": "stream",
          "text": [
            "columns are Index(['id', 'diagnosis', 'radius_mean', 'texture_mean', 'perimeter_mean',\n",
            "       'area_mean', 'smoothness_mean', 'compactness_mean', 'concavity_mean',\n",
            "       'concave points_mean', 'symmetry_mean', 'fractal_dimension_mean',\n",
            "       'radius_se', 'texture_se', 'perimeter_se', 'area_se', 'smoothness_se',\n",
            "       'compactness_se', 'concavity_se', 'concave points_se', 'symmetry_se',\n",
            "       'fractal_dimension_se', 'radius_worst', 'texture_worst',\n",
            "       'perimeter_worst', 'area_worst', 'smoothness_worst',\n",
            "       'compactness_worst', 'concavity_worst', 'concave points_worst',\n",
            "       'symmetry_worst', 'fractal_dimension_worst', 'Unnamed: 32'],\n",
            "      dtype='object')\n",
            "first 10          id diagnosis  ...  fractal_dimension_worst  Unnamed: 32\n",
            "0    842302         M  ...                  0.11890          NaN\n",
            "1    842517         M  ...                  0.08902          NaN\n",
            "2  84300903         M  ...                  0.08758          NaN\n",
            "3  84348301         M  ...                  0.17300          NaN\n",
            "4  84358402         M  ...                  0.07678          NaN\n",
            "5    843786         M  ...                  0.12440          NaN\n",
            "6    844359         M  ...                  0.08368          NaN\n",
            "7  84458202         M  ...                  0.11510          NaN\n",
            "8    844981         M  ...                  0.10720          NaN\n",
            "9  84501001         M  ...                  0.20750          NaN\n",
            "\n",
            "[10 rows x 33 columns]\n",
            "last 10          id diagnosis  ...  fractal_dimension_worst  Unnamed: 32\n",
            "559  925291         B  ...                  0.08732          NaN\n",
            "560  925292         B  ...                  0.08321          NaN\n",
            "561  925311         B  ...                  0.05905          NaN\n",
            "562  925622         M  ...                  0.14090          NaN\n",
            "563  926125         M  ...                  0.09873          NaN\n",
            "564  926424         M  ...                  0.07115          NaN\n",
            "565  926682         M  ...                  0.06637          NaN\n",
            "566  926954         M  ...                  0.07820          NaN\n",
            "567  927241         M  ...                  0.12400          NaN\n",
            "568   92751         B  ...                  0.07039          NaN\n",
            "\n",
            "[10 rows x 33 columns]\n"
          ],
          "name": "stdout"
        }
      ]
    }
  ]
}